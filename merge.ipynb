{
 "cells": [
  {
   "cell_type": "code",
   "execution_count": null,
   "metadata": {},
   "outputs": [],
   "source": [
    "import pandas as pd\n",
    "import geopandas as gpd\n",
    "import networkx as nx\n",
    "import momepy\n",
    "import folium\n",
    "import matplotlib.pyplot as plt\n",
    "from contextily import add_basemap\n",
    "from libpysal import weights"
   ]
  },
  {
   "cell_type": "code",
   "execution_count": null,
   "metadata": {},
   "outputs": [],
   "source": [
    "rues = pd.read_csv('data/rues.csv', sep=';')"
   ]
  },
  {
   "cell_type": "code",
   "execution_count": null,
   "metadata": {},
   "outputs": [],
   "source": [
    "rues.info()"
   ]
  },
  {
   "cell_type": "code",
   "execution_count": null,
   "metadata": {},
   "outputs": [],
   "source": [
    "cyclables = pd.read_csv('data/cyclables.csv', sep=';')"
   ]
  },
  {
   "cell_type": "code",
   "execution_count": null,
   "metadata": {},
   "outputs": [],
   "source": [
    "cyclables.head()"
   ]
  },
  {
   "cell_type": "code",
   "execution_count": null,
   "metadata": {},
   "outputs": [],
   "source": [
    "merged = pd.merge(rues, cyclables, on='gid', how='left', suffixes=('_rue', '_cyclable'))"
   ]
  },
  {
   "cell_type": "code",
   "execution_count": null,
   "metadata": {},
   "outputs": [],
   "source": [
    "merged.info()"
   ]
  },
  {
   "cell_type": "code",
   "execution_count": null,
   "metadata": {},
   "outputs": [],
   "source": [
    "rues_geojson = gpd.read_file('data/rues.geojson')\n",
    "cyclables_geojson = gpd.read_file('data/cyclables.geojson')"
   ]
  },
  {
   "cell_type": "code",
   "execution_count": null,
   "metadata": {},
   "outputs": [],
   "source": [
    "rues_geojson.info()"
   ]
  },
  {
   "cell_type": "code",
   "execution_count": null,
   "metadata": {},
   "outputs": [],
   "source": [
    "rues_geojson.head()"
   ]
  },
  {
   "cell_type": "code",
   "execution_count": null,
   "metadata": {},
   "outputs": [],
   "source": [
    "cyclables_geojson.info()"
   ]
  },
  {
   "cell_type": "code",
   "execution_count": null,
   "metadata": {},
   "outputs": [],
   "source": [
    "rues_geojson = rues_geojson[['geometry']]\n",
    "cyclables_geojson = cyclables_geojson[['geometry']]\n"
   ]
  },
  {
   "cell_type": "code",
   "execution_count": null,
   "metadata": {},
   "outputs": [],
   "source": [
    "rues_geojson.loc[:,'label'] = 'rue'\n",
    "cyclables_geojson.loc[:,'label'] = 'cyclable'"
   ]
  },
  {
   "cell_type": "code",
   "execution_count": null,
   "metadata": {},
   "outputs": [],
   "source": [
    "rues_geojson.head()"
   ]
  },
  {
   "cell_type": "code",
   "execution_count": null,
   "metadata": {},
   "outputs": [],
   "source": [
    "cyclables_geojson = cyclables_geojson.dropna(subset=['geometry'])"
   ]
  },
  {
   "cell_type": "code",
   "execution_count": null,
   "metadata": {},
   "outputs": [],
   "source": [
    "merged_geojson = gpd.sjoin(cyclables_geojson, rues_geojson, how='left')"
   ]
  },
  {
   "cell_type": "code",
   "execution_count": null,
   "metadata": {},
   "outputs": [],
   "source": [
    "merged_geojson.head()"
   ]
  },
  {
   "cell_type": "code",
   "execution_count": null,
   "metadata": {},
   "outputs": [],
   "source": [
    "merged_geojson.info()"
   ]
  },
  {
   "cell_type": "code",
   "execution_count": null,
   "metadata": {},
   "outputs": [],
   "source": [
    "# print unique value of label_left\n",
    "merged_geojson['label_left'].unique()"
   ]
  },
  {
   "cell_type": "code",
   "execution_count": null,
   "metadata": {},
   "outputs": [],
   "source": [
    "map = folium.Map(location=[44.833328,-0.56667], zoom_start=13,tiles=\"OpenStreetMap\")"
   ]
  },
  {
   "cell_type": "code",
   "execution_count": null,
   "metadata": {},
   "outputs": [],
   "source": [
    "for index,r in merged_geojson.iterrows():\n",
    "    if index == 1:\n",
    "        break\n",
    "    folium.GeoJson(r['geometry']).add_to(map)\n",
    "    print(\"ok\")"
   ]
  },
  {
   "cell_type": "code",
   "execution_count": null,
   "metadata": {},
   "outputs": [],
   "source": [
    "map"
   ]
  },
  {
   "cell_type": "code",
   "execution_count": null,
   "metadata": {},
   "outputs": [],
   "source": [
    "merged_geojson.info()"
   ]
  },
  {
   "cell_type": "code",
   "execution_count": null,
   "metadata": {},
   "outputs": [],
   "source": [
    "map = folium.Map(location=[44.833328,-0.56667], zoom_start=13,tiles=\"OpenStreetMap\")"
   ]
  },
  {
   "cell_type": "code",
   "execution_count": null,
   "metadata": {},
   "outputs": [],
   "source": [
    "merged_geojson.head()"
   ]
  },
  {
   "cell_type": "code",
   "execution_count": null,
   "metadata": {},
   "outputs": [],
   "source": [
    "for _,r in merged_geojson.iterrows():\n",
    "    if r.label_right == 'cyclable':\n",
    "        folium.GeoJson(r.geometry, style_function=lambda x: {'color': 'red'}).add_to(map)\n",
    "    else:\n",
    "        folium.GeoJson(r.geometry, style_function=lambda x: {'color': 'blue'}).add_to(map)"
   ]
  },
  {
   "cell_type": "code",
   "execution_count": null,
   "metadata": {},
   "outputs": [],
   "source": [
    "map"
   ]
  },
  {
   "cell_type": "code",
   "execution_count": null,
   "metadata": {},
   "outputs": [],
   "source": [
    "merged_geojson['geometry'].apply(lambda x: x.geom_type).unique()"
   ]
  },
  {
   "cell_type": "code",
   "execution_count": null,
   "metadata": {},
   "outputs": [],
   "source": [
    "merged_geojson[merged_geojson['geometry'].apply(lambda x: x.geom_type) == 'MultiLineString'].plot()"
   ]
  },
  {
   "cell_type": "code",
   "execution_count": null,
   "metadata": {},
   "outputs": [],
   "source": [
    "test_merged = merged_geojson.explode()"
   ]
  },
  {
   "cell_type": "code",
   "execution_count": null,
   "metadata": {},
   "outputs": [],
   "source": [
    "test_merged.info()"
   ]
  },
  {
   "cell_type": "code",
   "execution_count": null,
   "metadata": {},
   "outputs": [],
   "source": [
    "test_merged['geometry'].apply(lambda x: x.geom_type).unique()"
   ]
  },
  {
   "cell_type": "code",
   "execution_count": null,
   "metadata": {},
   "outputs": [],
   "source": [
    "new_map = folium.Map(location=[44.833328,-0.56667], zoom_start=13,tiles=\"OpenStreetMap\")"
   ]
  },
  {
   "cell_type": "code",
   "execution_count": null,
   "metadata": {},
   "outputs": [],
   "source": [
    "for _,r in test_merged.iterrows():\n",
    "    if r.label_right == 'cyclable':\n",
    "        folium.GeoJson(r.geometry, style_function=lambda x: {'color': 'red'}).add_to(new_map)\n",
    "    else:\n",
    "        folium.GeoJson(r.geometry).add_to(new_map)"
   ]
  },
  {
   "cell_type": "code",
   "execution_count": null,
   "metadata": {},
   "outputs": [],
   "source": [
    "new_map"
   ]
  },
  {
   "cell_type": "code",
   "execution_count": null,
   "metadata": {},
   "outputs": [],
   "source": [
    "ru = momepy.gdf_to_nx([:100], approach=\"primal\")"
   ]
  },
  {
   "cell_type": "code",
   "execution_count": null,
   "metadata": {},
   "outputs": [],
   "source": [
    "positions = {n: [n[0], n[1]] for n in list(ru.nodes)}\n",
    "\n",
    "# Plot\n",
    "f, ax = plt.subplots(1, 2, figsize=(64, 32), sharex=True, sharey=True)\n",
    "rues_geojson.plot(color=\"k\", ax=ax[0])\n",
    "for i, facet in enumerate(ax):\n",
    "    facet.set_title((\"Rivers\", \"Graph\")[i])\n",
    "    facet.axis(\"off\")\n",
    "nx.draw(ru, positions, ax=ax[1], node_size=5)"
   ]
  },
  {
   "cell_type": "code",
   "execution_count": null,
   "metadata": {},
   "outputs": [],
   "source": []
  },
  {
   "cell_type": "code",
   "execution_count": null,
   "metadata": {},
   "outputs": [],
   "source": [
    "nodes, edges, W = momepy.nx_to_gdf(ru, spatial_weights=True)\n",
    "\n",
    "\n",
    "# Read in example street network from GeoPackage\n",
    "streets = gpd.read_file(, layer=\"streets\")\n",
    "\n",
    "# Construct the primal graph\n",
    "G_primal = momepy.gdf_to_nx(streets, approach=\"primal\")\n",
    "\n",
    "# Plot\n",
    "f, ax = plt.subplots(1, 2, figsize=(12, 6), sharex=True, sharey=True)\n",
    "streets.plot(color=\"k\", ax=ax[0])\n",
    "for i, facet in enumerate(ax):\n",
    "    facet.set_title((\"Streets\", \"Graph\")[i])\n",
    "    facet.axis(\"off\")\n",
    "    try:  # For issues with downloading/parsing in CI\n",
    "        add_basemap(facet)\n",
    "    except:\n",
    "        pass\n",
    "nx.draw(\n",
    "    G_primal, {n: [n[0], n[1]] for n in list(G_primal.nodes)}, ax=ax[1], node_size=50\n",
    ")"
   ]
  }
 ],
 "metadata": {
  "kernelspec": {
   "display_name": "venv",
   "language": "python",
   "name": "python3"
  },
  "language_info": {
   "codemirror_mode": {
    "name": "ipython",
    "version": 3
   },
   "file_extension": ".py",
   "mimetype": "text/x-python",
   "name": "python",
   "nbconvert_exporter": "python",
   "pygments_lexer": "ipython3",
   "version": "3.12.2"
  }
 },
 "nbformat": 4,
 "nbformat_minor": 2
}
